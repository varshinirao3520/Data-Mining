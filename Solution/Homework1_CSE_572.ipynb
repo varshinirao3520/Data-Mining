{
 "cells": [
  {
   "cell_type": "code",
   "execution_count": 1,
   "id": "cf381d1f",
   "metadata": {},
   "outputs": [],
   "source": [
    "# Importing required libraries\n",
    "import pandas as pd\n",
    "import numpy as np\n",
    "from sklearn.experimental import enable_iterative_imputer\n",
    "from sklearn.impute import IterativeImputer\n",
    "from sklearn.preprocessing import StandardScaler\n",
    "from sklearn.ensemble import RandomForestClassifier\n",
    "from sklearn.model_selection import RandomizedSearchCV\n",
    "from sklearn.linear_model import LogisticRegression, Perceptron, SGDClassifier\n",
    "from sklearn.svm import SVC, LinearSVC\n",
    "from sklearn.neighbors import KNeighborsClassifier\n",
    "from sklearn.naive_bayes import GaussianNB\n",
    "from sklearn.tree import DecisionTreeClassifier"
   ]
  },
  {
   "cell_type": "code",
   "execution_count": 2,
   "id": "d0142b61",
   "metadata": {},
   "outputs": [],
   "source": [
    "# Load datasets\n",
    "train_df = pd.read_csv('train.csv')\n",
    "test_df = pd.read_csv('test.csv')\n",
    "combine = [train_df, test_df]"
   ]
  },
  {
   "cell_type": "code",
   "execution_count": 3,
   "id": "ea224ebc",
   "metadata": {},
   "outputs": [],
   "source": [
    "# Data Preprocessing\n",
    "train_df = train_df.drop(['Ticket', 'Cabin', 'Name', 'PassengerId'], axis=1)\n",
    "test_df = test_df.drop(['Ticket', 'Cabin', 'Name'], axis=1)\n",
    "combine = [train_df, test_df]"
   ]
  },
  {
   "cell_type": "code",
   "execution_count": 4,
   "id": "739c0574",
   "metadata": {},
   "outputs": [],
   "source": [
    "# Encoding 'Sex'\n",
    "for dataset in combine:\n",
    "    dataset['Sex'] = dataset['Sex'].map({'female': 1, 'male': 0}).astype(int)"
   ]
  },
  {
   "cell_type": "code",
   "execution_count": 5,
   "id": "1b4a38db",
   "metadata": {},
   "outputs": [],
   "source": [
    "# Fill missing 'Embarked' with mode\n",
    "freq_port = train_df.Embarked.dropna().mode()[0]\n",
    "for dataset in combine:\n",
    "    dataset['Embarked'] = dataset['Embarked'].fillna(freq_port)\n",
    "    dataset['Embarked'] = dataset['Embarked'].map({'S': 0, 'C': 1, 'Q': 2}).astype(int)"
   ]
  },
  {
   "cell_type": "code",
   "execution_count": 6,
   "id": "65ca0993",
   "metadata": {},
   "outputs": [
    {
     "name": "stderr",
     "output_type": "stream",
     "text": [
      "C:\\Users\\Varshini\\AppData\\Local\\Temp\\ipykernel_25320\\1593275737.py:2: FutureWarning: A value is trying to be set on a copy of a DataFrame or Series through chained assignment using an inplace method.\n",
      "The behavior will change in pandas 3.0. This inplace method will never work because the intermediate object on which we are setting values always behaves as a copy.\n",
      "\n",
      "For example, when doing 'df[col].method(value, inplace=True)', try using 'df.method({col: value}, inplace=True)' or df[col] = df[col].method(value) instead, to perform the operation inplace on the original object.\n",
      "\n",
      "\n",
      "  test_df['Fare'].fillna(test_df['Fare'].dropna().median(), inplace=True)\n"
     ]
    }
   ],
   "source": [
    "# Log Transformation for 'Fare'\n",
    "test_df['Fare'].fillna(test_df['Fare'].dropna().median(), inplace=True)\n",
    "train_df['Fare'] = train_df['Fare'].map(lambda x: np.log(x) if x > 0 else 0)"
   ]
  },
  {
   "cell_type": "code",
   "execution_count": 7,
   "id": "c9b220b8",
   "metadata": {},
   "outputs": [],
   "source": [
    "# Advanced Imputation for 'Age'\n",
    "imputer = IterativeImputer()\n",
    "train_df['Age'] = imputer.fit_transform(train_df[['Age']])"
   ]
  },
  {
   "cell_type": "code",
   "execution_count": 8,
   "id": "e262ceee",
   "metadata": {},
   "outputs": [],
   "source": [
    "# Scaling 'Age'\n",
    "scaler = StandardScaler()\n",
    "train_df['Age'] = scaler.fit_transform(train_df[['Age']])"
   ]
  },
  {
   "cell_type": "code",
   "execution_count": 9,
   "id": "e23d0dc0",
   "metadata": {},
   "outputs": [],
   "source": [
    "# Feature Interaction: Age * Fare, Fare * Pclass\n",
    "train_df['Age*Fare'] = train_df['Age'] * train_df['Fare']\n",
    "train_df['Fare*Pclass'] = train_df['Fare'] * train_df['Pclass']"
   ]
  },
  {
   "cell_type": "code",
   "execution_count": 10,
   "id": "ecbd6b4b",
   "metadata": {},
   "outputs": [],
   "source": [
    "# Preparing Data for Modeling\n",
    "X_train = train_df.drop(\"Survived\", axis=1)\n",
    "Y_train = train_df[\"Survived\"]\n",
    "X_test = test_df.drop(\"PassengerId\", axis=1).copy()"
   ]
  },
  {
   "cell_type": "code",
   "execution_count": 11,
   "id": "98f72969",
   "metadata": {},
   "outputs": [],
   "source": [
    "# Models Initialization\n",
    "models = {\n",
    "    'Logistic Regression': LogisticRegression(C=0.8, random_state=42),\n",
    "    'Support Vector Machines': SVC(kernel='rbf', C=0.9, random_state=42),\n",
    "    'Linear SVC': LinearSVC(random_state=42),\n",
    "    'K-Nearest Neighbors': KNeighborsClassifier(n_neighbors=5),\n",
    "    'Naive Bayes': GaussianNB(),\n",
    "    'Decision Tree': DecisionTreeClassifier(max_depth=5, random_state=42),\n",
    "    'Perceptron': Perceptron(random_state=42),\n",
    "    'SGD Classifier': SGDClassifier(random_state=42)\n",
    "}"
   ]
  },
  {
   "cell_type": "code",
   "execution_count": 12,
   "id": "94f5ef06",
   "metadata": {},
   "outputs": [],
   "source": [
    "# Random Forest with Hyperparameter Tuning\n",
    "param_dist = {\n",
    "    'n_estimators': [100, 150],\n",
    "    'max_depth': [4, 6],\n",
    "    'min_samples_split': [2, 5],\n",
    "    'min_samples_leaf': [1, 2]\n",
    "}\n",
    "rf = RandomForestClassifier(random_state=42)\n",
    "random_search = RandomizedSearchCV(estimator=rf, param_distributions=param_dist, \n",
    "                                   n_iter=10, cv=3, scoring='accuracy', random_state=42)\n",
    "random_search.fit(X_train, Y_train)\n",
    "best_rf = random_search.best_estimator_\n",
    "\n",
    "# Adding Random Forest (Tuned) to the models\n",
    "models['Random Forest (Tuned)'] = best_rf"
   ]
  },
  {
   "cell_type": "code",
   "execution_count": 13,
   "id": "cc5f3a30",
   "metadata": {},
   "outputs": [
    {
     "name": "stderr",
     "output_type": "stream",
     "text": [
      "c:\\Users\\Varshini\\AppData\\Local\\Programs\\Python\\Python312\\Lib\\site-packages\\sklearn\\svm\\_classes.py:31: FutureWarning: The default value of `dual` will change from `True` to `'auto'` in 1.5. Set the value of `dual` explicitly to suppress the warning.\n",
      "  warnings.warn(\n",
      "c:\\Users\\Varshini\\AppData\\Local\\Programs\\Python\\Python312\\Lib\\site-packages\\sklearn\\svm\\_base.py:1237: ConvergenceWarning: Liblinear failed to converge, increase the number of iterations.\n",
      "  warnings.warn(\n"
     ]
    }
   ],
   "source": [
    "# Model Training and Accuracy Calculation\n",
    "accuracies = {}\n",
    "for name, model in models.items():\n",
    "    model.fit(X_train, Y_train)\n",
    "    accuracies[name] = round(model.score(X_train, Y_train) * 100, 2)"
   ]
  },
  {
   "cell_type": "code",
   "execution_count": 14,
   "id": "3751a00b",
   "metadata": {},
   "outputs": [],
   "source": [
    "# Displaying the accuracies\n",
    "accuracy_df = pd.DataFrame(list(accuracies.items()), columns=['Model', 'Accuracy (%)'])"
   ]
  },
  {
   "cell_type": "code",
   "execution_count": 16,
   "id": "2882cdb4",
   "metadata": {},
   "outputs": [
    {
     "name": "stdout",
     "output_type": "stream",
     "text": [
      "Complete Model Accuracies with 9 Models\n",
      "                     Model  Accuracy (%)\n",
      "0      Logistic Regression         79.80\n",
      "1  Support Vector Machines         82.94\n",
      "2               Linear SVC         80.13\n",
      "3      K-Nearest Neighbors         84.85\n",
      "4              Naive Bayes         78.45\n",
      "5            Decision Tree         84.06\n",
      "6               Perceptron         74.75\n",
      "7           SGD Classifier         74.52\n",
      "8    Random Forest (Tuned)         87.88\n"
     ]
    }
   ],
   "source": [
    "# Display the final results\n",
    "print(\"Complete Model Accuracies with 9 Models\")\n",
    "print(accuracy_df)"
   ]
  }
 ],
 "metadata": {
  "kernelspec": {
   "display_name": "Python 3",
   "language": "python",
   "name": "python3"
  },
  "language_info": {
   "codemirror_mode": {
    "name": "ipython",
    "version": 3
   },
   "file_extension": ".py",
   "mimetype": "text/x-python",
   "name": "python",
   "nbconvert_exporter": "python",
   "pygments_lexer": "ipython3",
   "version": "3.12.1"
  }
 },
 "nbformat": 4,
 "nbformat_minor": 5
}
